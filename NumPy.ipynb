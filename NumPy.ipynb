{
  "nbformat": 4,
  "nbformat_minor": 0,
  "metadata": {
    "colab": {
      "provenance": [],
      "collapsed_sections": [
        "_x9q6bZVOZMY"
      ],
      "include_colab_link": true
    },
    "kernelspec": {
      "name": "python3",
      "display_name": "Python 3"
    },
    "language_info": {
      "name": "python"
    }
  },
  "cells": [
    {
      "cell_type": "markdown",
      "metadata": {
        "id": "view-in-github",
        "colab_type": "text"
      },
      "source": [
        "<a href=\"https://colab.research.google.com/github/lynn-rotich/Python_Basics/blob/main/NumPy.ipynb\" target=\"_parent\"><img src=\"https://colab.research.google.com/assets/colab-badge.svg\" alt=\"Open In Colab\"/></a>"
      ]
    },
    {
      "cell_type": "markdown",
      "source": [
        "# NumPy\n",
        "\n",
        "Python Libraries are a set of useful functions that eliminate the need for writing codes from scratch. There are over 137,000 python libraries present today, and they play a vital role in developing machine learning, data science, data visualization, image and data manipulation applications, and more."
      ],
      "metadata": {
        "id": "ge8_rKTqe6-e"
      }
    },
    {
      "cell_type": "code",
      "source": [
        "import pandas as pd\n",
        "import numpy as np\n"
      ],
      "metadata": {
        "id": "M1FekwKZ-d-p"
      },
      "execution_count": null,
      "outputs": []
    },
    {
      "cell_type": "markdown",
      "source": [
        "![images.png](data:image/png;base64,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)\n",
        "\n",
        "\n",
        "NumPy is a Python library used for working with arrays. It also has functions for working in domain of linear algebra, fourier transform, and matrices.\n",
        "\n",
        "NumPy aims to provide an array object that is up to 50x faster than traditional Python lists.\n",
        "\n",
        "The array object in NumPy is called ndarray, it provides a lot of supporting functions that make working with ndarray very easy.\n",
        "\n",
        "Arrays are very frequently used in data science, where speed and resources are very important."
      ],
      "metadata": {
        "id": "XxuR_vU0HZXU"
      }
    },
    {
      "cell_type": "code",
      "source": [
        "import numpy as np\n",
        "\n",
        "\n",
        "# list\n",
        "list1 = [23, 45, 50, \"Baraka\", \"\"]\n",
        "\n",
        "arr = np.array([12, 32, 45])\n",
        "\n",
        "type(arr)\n"
      ],
      "metadata": {
        "colab": {
          "base_uri": "https://localhost:8080/"
        },
        "id": "YvNxlOuti-3t",
        "outputId": "67beadaf-2678-426f-c62a-10da3069f52f"
      },
      "execution_count": null,
      "outputs": [
        {
          "output_type": "execute_result",
          "data": {
            "text/plain": [
              "numpy.ndarray"
            ]
          },
          "metadata": {},
          "execution_count": 10
        }
      ]
    },
    {
      "cell_type": "code",
      "source": [
        "# !pip3 install numpy\n",
        "import numpy as np\n",
        "\n",
        "\n",
        "\n",
        "# Create a numpy array\n",
        "\n",
        "arr = np.array([1, 2, 3, 4, 5])\n",
        "\n",
        "print(arr)\n",
        "# (arr[-1])"
      ],
      "metadata": {
        "colab": {
          "base_uri": "https://localhost:8080/"
        },
        "id": "-JQy0cOkGtLW",
        "outputId": "49c772bb-f863-4486-9e04-fde93f1a2798"
      },
      "execution_count": null,
      "outputs": [
        {
          "output_type": "stream",
          "name": "stdout",
          "text": [
            "[1 2 3 4 5]\n"
          ]
        }
      ]
    },
    {
      "cell_type": "code",
      "source": [
        "x = 5\n",
        "\n",
        "np.array(x)"
      ],
      "metadata": {
        "colab": {
          "base_uri": "https://localhost:8080/"
        },
        "id": "WmyJxzADxPUi",
        "outputId": "264e20e1-6ab0-4139-e0cb-5d8b8e123322"
      },
      "execution_count": null,
      "outputs": [
        {
          "output_type": "execute_result",
          "data": {
            "text/plain": [
              "array(5)"
            ]
          },
          "metadata": {},
          "execution_count": 4
        }
      ]
    },
    {
      "cell_type": "markdown",
      "source": [
        "####Create a NumPy ndarray Object\n",
        "NumPy is used to work with arrays. The array object in NumPy is called **ndarray**.\n",
        "\n",
        "We can create a NumPy ndarray object by using the **array()** function."
      ],
      "metadata": {
        "id": "-mfI8i7EG4M1"
      }
    },
    {
      "cell_type": "code",
      "source": [
        "arr = np.array([1, 2, 3, 4, 5])\n",
        "lis = [1, 2, 3, 4, 5]\n",
        "\n",
        "print(arr)\n",
        "print(lis)\n",
        "print(type(arr))"
      ],
      "metadata": {
        "colab": {
          "base_uri": "https://localhost:8080/"
        },
        "id": "v6SAmccFG3tp",
        "outputId": "8dc5a5cc-bfbe-49b9-eb64-855e25022f26"
      },
      "execution_count": null,
      "outputs": [
        {
          "output_type": "stream",
          "name": "stdout",
          "text": [
            "[1 2 3 4 5]\n",
            "[1, 2, 3, 4, 5]\n",
            "<class 'numpy.ndarray'>\n"
          ]
        }
      ]
    },
    {
      "cell_type": "markdown",
      "source": [
        "## Dimensions in Arrays\n",
        "\n",
        "\n",
        "![image.png](data:image/png;base64,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)\n",
        "\n",
        "\n",
        "A dimension in arrays is one level of array depth (nested arrays)."
      ],
      "metadata": {
        "id": "BCgavT75HOFV"
      }
    },
    {
      "cell_type": "markdown",
      "source": [
        "a) 0-D arrays, or Scalars, are the elements in an array. Each value in an array is a 0-D array.\n"
      ],
      "metadata": {
        "id": "zWZYuH2QHWsj"
      }
    },
    {
      "cell_type": "code",
      "source": [
        "np.array(1)"
      ],
      "metadata": {
        "colab": {
          "base_uri": "https://localhost:8080/"
        },
        "id": "gmyH6BJzyIhN",
        "outputId": "c5773dbd-0c7e-4f08-b127-c45cdc4b26d8"
      },
      "execution_count": null,
      "outputs": [
        {
          "output_type": "execute_result",
          "data": {
            "text/plain": [
              "array(1)"
            ]
          },
          "metadata": {},
          "execution_count": 6
        }
      ]
    },
    {
      "cell_type": "code",
      "source": [
        "list1  = [1,2,3,4]\n",
        "\n",
        "new_list = []\n",
        "for i in list1:\n",
        "  new_list.append(i*5)\n",
        "\n",
        "print(new_list)"
      ],
      "metadata": {
        "colab": {
          "base_uri": "https://localhost:8080/"
        },
        "id": "div-zOKCyY61",
        "outputId": "a528fd0e-9199-4228-dd46-4593de17a747"
      },
      "execution_count": null,
      "outputs": [
        {
          "output_type": "stream",
          "name": "stdout",
          "text": [
            "[5, 10, 15, 20]\n"
          ]
        }
      ]
    },
    {
      "cell_type": "code",
      "source": [
        "# CHange list into np array\n",
        "np_1 = np.array(list1)\n",
        "print(np_1)\n",
        "\n",
        "list_2 = []\n",
        "for i in np_1:\n",
        "   list_2.append(i*5)\n",
        "\n",
        "list_2"
      ],
      "metadata": {
        "colab": {
          "base_uri": "https://localhost:8080/"
        },
        "id": "KnTt3NOYyqHN",
        "outputId": "60ece36c-dedc-48c5-d3d2-c7626b2e1c3c"
      },
      "execution_count": null,
      "outputs": [
        {
          "output_type": "stream",
          "name": "stdout",
          "text": [
            "[1 2 3 4]\n"
          ]
        },
        {
          "output_type": "execute_result",
          "data": {
            "text/plain": [
              "[5, 10, 15, 20]"
            ]
          },
          "metadata": {},
          "execution_count": 8
        }
      ]
    },
    {
      "cell_type": "code",
      "source": [
        "list1  = [1,2,3,4]\n",
        "\n",
        "\n",
        "# print(list1 * 5)\n",
        "\n",
        "arr1 = np.array(list1)\n",
        "\n",
        "print(arr1 * 5)"
      ],
      "metadata": {
        "colab": {
          "base_uri": "https://localhost:8080/"
        },
        "id": "nCOHM4TuL9y6",
        "outputId": "76717ae5-9765-4d80-e0d8-43a9d5e0dc31"
      },
      "execution_count": null,
      "outputs": [
        {
          "output_type": "stream",
          "name": "stdout",
          "text": [
            "[ 5 10 15 20]\n"
          ]
        }
      ]
    },
    {
      "cell_type": "code",
      "source": [
        "# Create a 0-D array with value 42\n",
        "arr_0 = np.array(42)\n",
        "\n",
        "print(arr_0*5)"
      ],
      "metadata": {
        "colab": {
          "base_uri": "https://localhost:8080/"
        },
        "id": "oYVOwIAXHLuM",
        "outputId": "54cbf5bb-efad-4473-88d3-8185f61f8597"
      },
      "execution_count": null,
      "outputs": [
        {
          "output_type": "stream",
          "name": "stdout",
          "text": [
            "210\n"
          ]
        }
      ]
    },
    {
      "cell_type": "markdown",
      "source": [
        "b) 1-D Arrays\n",
        "An array that has 0-D arrays as its elements is called uni-dimensional or 1-D array.\n",
        "\n",
        "These are the most common and basic arrays."
      ],
      "metadata": {
        "id": "A-kcajdEbBKB"
      }
    },
    {
      "cell_type": "code",
      "source": [
        "arr_1 = np.array([1, 2, 3, 4, 5])\n",
        "\n",
        "print(arr_1)"
      ],
      "metadata": {
        "colab": {
          "base_uri": "https://localhost:8080/"
        },
        "id": "yc7u7ljLbCMw",
        "outputId": "dca1e5ac-2420-4f59-b84a-27fe0a609df9"
      },
      "execution_count": null,
      "outputs": [
        {
          "output_type": "stream",
          "name": "stdout",
          "text": [
            "[1 2 3 4 5]\n"
          ]
        }
      ]
    },
    {
      "cell_type": "markdown",
      "source": [
        "c) 2-D Arrays\n",
        "An array that has 1-D arrays as its elements is called a 2-D array.\n",
        "\n",
        "These are often used to represent matrix or 2nd order tensors."
      ],
      "metadata": {
        "id": "gRqaJ8ptbU6v"
      }
    },
    {
      "cell_type": "code",
      "source": [
        "import numpy as np\n",
        "# Create a 2-D array containing two arrays with the values  age = 1,2,3 and  height = 4,5,6:\n",
        "arr = np.array([[1, 2, 3], [4, 5, 6]])\n",
        "# print(arr)\n",
        "\n",
        "\n",
        "# arr.ndim\n",
        "\n",
        "# type(arr)\n",
        "# arr[1,1]"
      ],
      "metadata": {
        "colab": {
          "base_uri": "https://localhost:8080/"
        },
        "id": "q0U5YK_WbUXT",
        "outputId": "35f58a96-bb3d-4625-fa09-55e2e6b85fbe"
      },
      "execution_count": null,
      "outputs": [
        {
          "output_type": "execute_result",
          "data": {
            "text/plain": [
              "np.int64(5)"
            ]
          },
          "metadata": {},
          "execution_count": 4
        }
      ]
    },
    {
      "cell_type": "code",
      "source": [
        "list_1 = [0,1,2,3,4,5]\n",
        "\n",
        "list_1[0:6]"
      ],
      "metadata": {
        "colab": {
          "base_uri": "https://localhost:8080/"
        },
        "id": "wh5_20MF5WgP",
        "outputId": "c83aa6b2-23a3-4c66-f565-190786277722"
      },
      "execution_count": null,
      "outputs": [
        {
          "output_type": "execute_result",
          "data": {
            "text/plain": [
              "[0, 1, 2, 3, 4, 5]"
            ]
          },
          "metadata": {},
          "execution_count": 13
        }
      ]
    },
    {
      "cell_type": "code",
      "source": [
        "age = [1,5,7]\n",
        "h = [4,6,7]\n",
        "\n",
        "age_arr = np.array(age)\n",
        "h_arr = np.array(h)\n",
        "\n",
        "arr = np.array([age_arr, h_arr])\n",
        "arr.ndim"
      ],
      "metadata": {
        "colab": {
          "base_uri": "https://localhost:8080/"
        },
        "id": "99SZ3a5R4dmY",
        "outputId": "9e7bc734-e827-44bf-d56d-a2ec75ea0ed3"
      },
      "execution_count": null,
      "outputs": [
        {
          "output_type": "execute_result",
          "data": {
            "text/plain": [
              "2"
            ]
          },
          "metadata": {},
          "execution_count": 14
        }
      ]
    },
    {
      "cell_type": "code",
      "source": [
        "x = np.array([[1,2],[2,5],[7,8]])\n",
        "\n",
        "print(x)\n",
        "print(x.ndim,'dimensions')\n"
      ],
      "metadata": {
        "colab": {
          "base_uri": "https://localhost:8080/"
        },
        "id": "fxWOmwKa5GjA",
        "outputId": "078f8818-948d-4ed9-c334-c208e7818a94"
      },
      "execution_count": null,
      "outputs": [
        {
          "output_type": "stream",
          "name": "stdout",
          "text": [
            "[[1 2]\n",
            " [2 5]\n",
            " [7 8]]\n",
            "2 dimensions\n"
          ]
        }
      ]
    },
    {
      "cell_type": "code",
      "source": [
        "x[0]"
      ],
      "metadata": {
        "colab": {
          "base_uri": "https://localhost:8080/"
        },
        "id": "oCuLdhfn5y9n",
        "outputId": "ca1dd7eb-52f8-405b-b26d-e59700b4579c"
      },
      "execution_count": null,
      "outputs": [
        {
          "output_type": "execute_result",
          "data": {
            "text/plain": [
              "array([1, 2])"
            ]
          },
          "metadata": {},
          "execution_count": 16
        }
      ]
    },
    {
      "cell_type": "code",
      "source": [
        "x[1:3]"
      ],
      "metadata": {
        "colab": {
          "base_uri": "https://localhost:8080/"
        },
        "id": "Q2e8dabs6svr",
        "outputId": "c7f7c4d6-53ca-42ef-e8b0-5861ed90ada4"
      },
      "execution_count": null,
      "outputs": [
        {
          "output_type": "execute_result",
          "data": {
            "text/plain": [
              "array([[2, 5],\n",
              "       [7, 8]])"
            ]
          },
          "metadata": {},
          "execution_count": 17
        }
      ]
    },
    {
      "cell_type": "code",
      "source": [
        "# To get 5\n",
        "x[0:2]"
      ],
      "metadata": {
        "colab": {
          "base_uri": "https://localhost:8080/"
        },
        "id": "PzjAb0PQ6HVH",
        "outputId": "13ca9c5f-ee2f-4b00-efd4-dbab1e4370f0"
      },
      "execution_count": null,
      "outputs": [
        {
          "output_type": "execute_result",
          "data": {
            "text/plain": [
              "array([[1, 2],\n",
              "       [2, 5]])"
            ]
          },
          "metadata": {},
          "execution_count": 18
        }
      ]
    },
    {
      "cell_type": "code",
      "source": [
        "x"
      ],
      "metadata": {
        "colab": {
          "base_uri": "https://localhost:8080/"
        },
        "id": "wpEQnAiD611m",
        "outputId": "35aaa507-d217-4af7-8483-f198d9c226bb"
      },
      "execution_count": null,
      "outputs": [
        {
          "output_type": "execute_result",
          "data": {
            "text/plain": [
              "array([[1, 2],\n",
              "       [2, 5],\n",
              "       [7, 8]])"
            ]
          },
          "metadata": {},
          "execution_count": 19
        }
      ]
    },
    {
      "cell_type": "code",
      "source": [
        "x[:,1]"
      ],
      "metadata": {
        "colab": {
          "base_uri": "https://localhost:8080/"
        },
        "id": "PGfyA9Ob63Eh",
        "outputId": "3d054270-6fc1-4ae4-f17d-a9558986de5f"
      },
      "execution_count": null,
      "outputs": [
        {
          "output_type": "execute_result",
          "data": {
            "text/plain": [
              "array([2, 5, 8])"
            ]
          },
          "metadata": {},
          "execution_count": 20
        }
      ]
    },
    {
      "cell_type": "code",
      "source": [
        "x[1][0]"
      ],
      "metadata": {
        "colab": {
          "base_uri": "https://localhost:8080/"
        },
        "id": "9m3IvM0a7bAa",
        "outputId": "320d9bca-6688-4e3b-cef4-ac6adf740f64"
      },
      "execution_count": null,
      "outputs": [
        {
          "output_type": "execute_result",
          "data": {
            "text/plain": [
              "2"
            ]
          },
          "metadata": {},
          "execution_count": 21
        }
      ]
    },
    {
      "cell_type": "code",
      "source": [
        "[[[[78]]]]"
      ],
      "metadata": {
        "id": "TJEPcv7B-wlZ",
        "colab": {
          "base_uri": "https://localhost:8080/"
        },
        "outputId": "3039012c-f7f5-466a-b6a2-939f302e07fc"
      },
      "execution_count": null,
      "outputs": [
        {
          "output_type": "execute_result",
          "data": {
            "text/plain": [
              "[[[[78]]]]"
            ]
          },
          "metadata": {},
          "execution_count": 22
        }
      ]
    },
    {
      "cell_type": "code",
      "source": [
        "num = 78\n",
        "\n",
        "numarr = np.array(num, ndmin = 4)\n",
        "print(numarr,)"
      ],
      "metadata": {
        "colab": {
          "base_uri": "https://localhost:8080/"
        },
        "id": "fVD2vSOO-jYm",
        "outputId": "4e0b3b64-2683-45ef-b331-e0807043d700"
      },
      "execution_count": null,
      "outputs": [
        {
          "output_type": "stream",
          "name": "stdout",
          "text": [
            "[[[[78]]]]\n"
          ]
        }
      ]
    },
    {
      "cell_type": "markdown",
      "source": [
        ")d) 3-D arrays\n",
        "An array that has 2-D arrays (matrices) as its elements is called 3-D array. These are often used to represent a 3rd order tensor."
      ],
      "metadata": {
        "id": "beP4tJQab3AO"
      }
    },
    {
      "cell_type": "code",
      "source": [
        "# Create a 3-D array with two 2-D arrays, both containing two\n",
        "# arrays with the values 1,2,3 and 4,5,6\n",
        "arr_2 = np.array([[6,4,8],[5,6,1]])\n",
        "\n",
        "print(arr_2)\n",
        "\n",
        "# arr_2[1,1,1] Uncomment and resolve the code"
      ],
      "metadata": {
        "colab": {
          "base_uri": "https://localhost:8080/"
        },
        "id": "UgJhfTZfb59M",
        "outputId": "c38835a3-ef72-40bd-a611-97709ad4355a"
      },
      "execution_count": null,
      "outputs": [
        {
          "output_type": "stream",
          "name": "stdout",
          "text": [
            "[[6 4 8]\n",
            " [5 6 1]]\n"
          ]
        }
      ]
    },
    {
      "cell_type": "markdown",
      "source": [
        "NumPy Arrays provides the ndim attribute that returns an integer that tells us how many dimensions the array have."
      ],
      "metadata": {
        "id": "YwmYdzZ0cRoB"
      }
    },
    {
      "cell_type": "code",
      "source": [
        "import numpy as np\n",
        "import pandas as pd\n",
        "import matplotlib.pyplot as plt\n"
      ],
      "metadata": {
        "id": "YQFYDxIQk6mt"
      },
      "execution_count": null,
      "outputs": []
    },
    {
      "cell_type": "code",
      "source": [
        "d4 = np.array([[[[1, 2, 3], [4, 5, 6]], [[1, 2, 3], [4, 5, 6]]],[[[1, 2, 3], [4, 5, 6]], [[1, 2, 3], [4, 5, 6]]]])\n",
        "\n",
        "\n",
        "# print(d4)\n",
        "d4[0,0,0, 0]"
      ],
      "metadata": {
        "id": "aXyV4SboTMLo",
        "colab": {
          "base_uri": "https://localhost:8080/"
        },
        "outputId": "0751aae2-753d-48f4-9071-5fb17fa42f4c"
      },
      "execution_count": null,
      "outputs": [
        {
          "output_type": "execute_result",
          "data": {
            "text/plain": [
              "1"
            ]
          },
          "metadata": {},
          "execution_count": 26
        }
      ]
    },
    {
      "cell_type": "code",
      "source": [
        "x = np.array([1,2,4,5],ndmin= 5)\n",
        "x"
      ],
      "metadata": {
        "id": "aJolIcBmBwxu",
        "colab": {
          "base_uri": "https://localhost:8080/"
        },
        "outputId": "00c55092-2f1f-44cd-ec97-62a69d990f9a"
      },
      "execution_count": null,
      "outputs": [
        {
          "output_type": "execute_result",
          "data": {
            "text/plain": [
              "array([[[[[1, 2, 4, 5]]]]])"
            ]
          },
          "metadata": {},
          "execution_count": 27
        }
      ]
    },
    {
      "cell_type": "code",
      "source": [
        "x.ndim"
      ],
      "metadata": {
        "colab": {
          "base_uri": "https://localhost:8080/"
        },
        "id": "2RH4nzjOc8LM",
        "outputId": "e09f29bb-efb9-4669-ffb8-f193987cf4f3"
      },
      "execution_count": null,
      "outputs": [
        {
          "output_type": "execute_result",
          "data": {
            "text/plain": [
              "5"
            ]
          },
          "metadata": {},
          "execution_count": 28
        }
      ]
    },
    {
      "cell_type": "code",
      "source": [
        "# Check how many dimensions the arrays have\n",
        "\n",
        "a = np.array(42)\n",
        "b = np.array([1, 2, 3, 4, 5])\n",
        "c = np.array([[1, 2, 3], [4, 5, 6]])\n",
        "d = np.array([[[1, 2, 3], [4, 5, 6]], [[1, 2, 3], [4, 5, 6]]])\n",
        "\n",
        "print(a.ndim)\n",
        "print(b.ndim)\n",
        "print(c.ndim)\n",
        "print(d.ndim)"
      ],
      "metadata": {
        "id": "YPns5spJcTsS",
        "colab": {
          "base_uri": "https://localhost:8080/"
        },
        "outputId": "537d482c-3c37-4605-8cd5-d768b4c9b6b4"
      },
      "execution_count": null,
      "outputs": [
        {
          "output_type": "stream",
          "name": "stdout",
          "text": [
            "0\n",
            "1\n",
            "2\n",
            "3\n"
          ]
        }
      ]
    },
    {
      "cell_type": "markdown",
      "source": [
        "### Higher Dimensional Arrays\n",
        "\n",
        "An array can have any number of dimensions.\n",
        "\n",
        "When the array is created, you can define the number of dimensions by using the ndmin argument."
      ],
      "metadata": {
        "id": "i7D-iDLmchLG"
      }
    },
    {
      "cell_type": "code",
      "source": [
        "# Create an array with 5 dimensions and verify that it has 5 dimension\n",
        "arr_n = np.array([1, 2, 3, 4], ndmin=5)\n",
        "\n",
        "print(arr_n)\n",
        "print('number of dimensions :', arr_n.ndim)"
      ],
      "metadata": {
        "id": "PSXzR_Sdck69",
        "colab": {
          "base_uri": "https://localhost:8080/"
        },
        "outputId": "b39d794c-76f6-492d-e305-3d0df032e431"
      },
      "execution_count": null,
      "outputs": [
        {
          "output_type": "stream",
          "name": "stdout",
          "text": [
            "[[[[[1 2 3 4]]]]]\n",
            "number of dimensions : 5\n"
          ]
        }
      ]
    },
    {
      "cell_type": "markdown",
      "source": [
        "## Numpy Array Indexing\n",
        "Array indexing is the same as accessing an array element.\n",
        "\n",
        "You can access an array element by referring to its index number."
      ],
      "metadata": {
        "id": "w_TF3Xf2c4Az"
      }
    },
    {
      "cell_type": "code",
      "source": [
        "# Get the first element from the following array:\n",
        "arr = np.array([10, 20, 30, 40])\n",
        "print(arr)\n",
        "print(arr[0])"
      ],
      "metadata": {
        "id": "I9e6dAhldCuk",
        "colab": {
          "base_uri": "https://localhost:8080/"
        },
        "outputId": "cc345f9f-f73b-4d76-d4fa-c69aaaaba35c"
      },
      "execution_count": null,
      "outputs": [
        {
          "output_type": "stream",
          "name": "stdout",
          "text": [
            "[10 20 30 40]\n",
            "10\n"
          ]
        }
      ]
    },
    {
      "cell_type": "code",
      "source": [
        "# Get the second element from the following array.\n",
        "\n",
        "print(arr[1])"
      ],
      "metadata": {
        "id": "zyEoeofQdGyh",
        "colab": {
          "base_uri": "https://localhost:8080/"
        },
        "outputId": "5c145238-a3ab-48db-9a87-c669bd376302"
      },
      "execution_count": null,
      "outputs": [
        {
          "output_type": "stream",
          "name": "stdout",
          "text": [
            "20\n"
          ]
        }
      ]
    },
    {
      "cell_type": "code",
      "source": [
        "# Get third and fourth elements from the following array and add them.\n",
        "arr_sum = np.array([11, 21, 31, 41])\n",
        "\n",
        "print(arr_sum[2] + arr_sum[3])"
      ],
      "metadata": {
        "id": "XG0qM5DldQLj",
        "colab": {
          "base_uri": "https://localhost:8080/"
        },
        "outputId": "cef44184-0bb5-484c-8030-cf114c3afee5"
      },
      "execution_count": null,
      "outputs": [
        {
          "output_type": "stream",
          "name": "stdout",
          "text": [
            "72\n"
          ]
        }
      ]
    },
    {
      "cell_type": "markdown",
      "source": [
        "To access elements from 2-D arrays we can use comma separated integers representing the dimension and the index of the element.\n",
        "\n",
        "Think of 2-D arrays like a table with rows and columns, where the row represents the dimension and the index represents the column."
      ],
      "metadata": {
        "id": "8Z1z93gQdiD0"
      }
    },
    {
      "cell_type": "code",
      "source": [
        "# Access the element on the first row, second column:\n",
        "arr = np.array([[1,2,3,4,5], [6,7,8,9,10]])\n",
        "print(arr)\n",
        "print()\n",
        "print('2nd element on 1st row: ', arr[0, 1])"
      ],
      "metadata": {
        "id": "_hwKhIBRdnOL",
        "colab": {
          "base_uri": "https://localhost:8080/"
        },
        "outputId": "ff5b3125-08cb-4429-b604-2022ab27060a"
      },
      "execution_count": null,
      "outputs": [
        {
          "output_type": "stream",
          "name": "stdout",
          "text": [
            "[[ 1  2  3  4  5]\n",
            " [ 6  7  8  9 10]]\n",
            "\n",
            "2nd element on 1st row:  2\n"
          ]
        }
      ]
    },
    {
      "cell_type": "code",
      "source": [
        "# Access the element on the 2nd row, 5th column:\n",
        "arr = np.array([[1,2,3,4,5], [6,7,8,9,10]])\n",
        "print(arr)\n",
        "print()\n",
        "print('5th element on 2nd row: ', arr[1, 4])"
      ],
      "metadata": {
        "id": "2JE3gjXKdyVC",
        "colab": {
          "base_uri": "https://localhost:8080/"
        },
        "outputId": "76eac8b7-2211-4d4d-e906-56361f607e92"
      },
      "execution_count": null,
      "outputs": [
        {
          "output_type": "stream",
          "name": "stdout",
          "text": [
            "[[ 1  2  3  4  5]\n",
            " [ 6  7  8  9 10]]\n",
            "\n",
            "5th element on 2nd row:  10\n"
          ]
        }
      ]
    },
    {
      "cell_type": "markdown",
      "source": [
        "To access elements from 3-D arrays we can use comma separated integers representing the dimensions and the index of the element."
      ],
      "metadata": {
        "id": "WEtEFLZGd92r"
      }
    },
    {
      "cell_type": "code",
      "source": [
        "# Access the third element of the second array of the first array:\n",
        "arr_5 = np.array([[[1, 26, 3], [4, 5, 6]], [[7, 8, 9], [10, 11, 12]]])\n",
        "print(arr_5)\n",
        "print('-')\n",
        "print(arr_5[0,0,1])"
      ],
      "metadata": {
        "id": "A8I31ngld_jI",
        "colab": {
          "base_uri": "https://localhost:8080/"
        },
        "outputId": "4ffa4886-9491-4fa9-87f0-4f3a5648c94b"
      },
      "execution_count": null,
      "outputs": [
        {
          "output_type": "stream",
          "name": "stdout",
          "text": [
            "[[[ 1 26  3]\n",
            "  [ 4  5  6]]\n",
            "\n",
            " [[ 7  8  9]\n",
            "  [10 11 12]]]\n",
            "-\n",
            "26\n"
          ]
        }
      ]
    },
    {
      "cell_type": "markdown",
      "source": [
        "We use negative indexing to access an array from the end."
      ],
      "metadata": {
        "id": "LgIYRfsOeSxU"
      }
    },
    {
      "cell_type": "code",
      "source": [
        "# Print the last element from the 2nd dim:\n",
        "\n",
        "arr = np.array([[1,2,3,4,5], [6,7,8,9,10]])\n",
        "\n",
        "print('Last element from 2nd dim: ', arr[1, -1])"
      ],
      "metadata": {
        "id": "tO9SsspmeLdn",
        "colab": {
          "base_uri": "https://localhost:8080/"
        },
        "outputId": "02dfbe4c-71e0-4f23-e4a0-1245c6cb38c4"
      },
      "execution_count": null,
      "outputs": [
        {
          "output_type": "stream",
          "name": "stdout",
          "text": [
            "Last element from 2nd dim:  10\n"
          ]
        }
      ]
    },
    {
      "cell_type": "markdown",
      "source": [
        "## NumPy Array Slicing\n",
        "Slicing arrays\n",
        "Slicing in python means taking elements from one given index to another given index.\n",
        "\n",
        "We pass slice instead of index like this: **[start:end]**.\n",
        "\n",
        "We can also define the step, like this: **[start:end:step]**.\n",
        "\n",
        "If we don't pass start its considered 0\n",
        "\n",
        "If we don't pass end its considered length of array in that dimension\n",
        "\n",
        "If we don't pass step its considered 1"
      ],
      "metadata": {
        "id": "pT5nclo9ejlE"
      }
    },
    {
      "cell_type": "code",
      "source": [
        "# Slice elements from index 1 to index 5 from the following array:\n",
        "\n",
        "arr = np.array([10, 20, 30, 40, 50, 60, 70])\n",
        "\n",
        "print(arr[1:5])\n",
        "\n",
        "# The result includes the start index, but excludes the end index"
      ],
      "metadata": {
        "id": "6E8q2ckUe7Uh",
        "colab": {
          "base_uri": "https://localhost:8080/"
        },
        "outputId": "0fc279ea-31cd-454d-ffe1-cad9ee3d381f"
      },
      "execution_count": null,
      "outputs": [
        {
          "output_type": "stream",
          "name": "stdout",
          "text": [
            "[20 30 40 50]\n"
          ]
        }
      ]
    },
    {
      "cell_type": "code",
      "source": [
        "# Slice elements from index 4 to the end of the array:\n",
        "\n",
        "arr = np.array([1, 2, 3, 4, 5, 6, 7])\n",
        "\n",
        "print(arr[:])"
      ],
      "metadata": {
        "id": "BfevvCFQfERJ",
        "colab": {
          "base_uri": "https://localhost:8080/"
        },
        "outputId": "dc330603-193e-4d74-fd7f-1230c511c9d8"
      },
      "execution_count": null,
      "outputs": [
        {
          "output_type": "stream",
          "name": "stdout",
          "text": [
            "[1 2 3 4 5 6 7]\n"
          ]
        }
      ]
    },
    {
      "cell_type": "markdown",
      "source": [
        "Negative Slicing\n",
        "- Use the minus operator to refer to an index from the end"
      ],
      "metadata": {
        "id": "RacVjvHOfR9L"
      }
    },
    {
      "cell_type": "code",
      "source": [
        "# Slice from the index 3 from the end to index 1 from the end:\n",
        "\n",
        "arr = np.array([1, 2, 3, 4, 5, 6, 7])\n",
        "\n",
        "print(arr[-3:-1])"
      ],
      "metadata": {
        "id": "idRTNNOTfQwl",
        "colab": {
          "base_uri": "https://localhost:8080/"
        },
        "outputId": "a8da9dae-c49a-4655-8a7a-ebd3f603336a"
      },
      "execution_count": null,
      "outputs": [
        {
          "output_type": "stream",
          "name": "stdout",
          "text": [
            "[5 6]\n"
          ]
        }
      ]
    },
    {
      "cell_type": "markdown",
      "source": [
        "STEP\n",
        "Use the step value to determine the step of the slicing:\n"
      ],
      "metadata": {
        "id": "uPoNWK3EfgBM"
      }
    },
    {
      "cell_type": "code",
      "source": [
        "#Example\n",
        "# Return every other element from index 1 to index 6:\n",
        "arr = np.array([1, 2, 3, 4, 5, 6, 7])\n",
        "\n",
        "print(arr[1:6:2])"
      ],
      "metadata": {
        "id": "EG96TgjofnD4",
        "colab": {
          "base_uri": "https://localhost:8080/"
        },
        "outputId": "a96a0384-a7c9-407f-9000-2b97aec56db9"
      },
      "execution_count": null,
      "outputs": [
        {
          "output_type": "stream",
          "name": "stdout",
          "text": [
            "[2 4 6]\n"
          ]
        }
      ]
    },
    {
      "cell_type": "code",
      "source": [
        "# Return every other element from the entire array:\n",
        "arr = np.array([1, 2, 3, 4, 5, 6, 7])\n",
        "\n",
        "print(arr[::3])"
      ],
      "metadata": {
        "id": "Y3Vi4FPjfvqr",
        "colab": {
          "base_uri": "https://localhost:8080/"
        },
        "outputId": "d0ea4ad7-9ae0-41d3-b2c0-0fe68447b0fb"
      },
      "execution_count": null,
      "outputs": [
        {
          "output_type": "stream",
          "name": "stdout",
          "text": [
            "[1 4 7]\n"
          ]
        }
      ]
    },
    {
      "cell_type": "markdown",
      "source": [
        "Slicing 2-D arrays"
      ],
      "metadata": {
        "id": "lM6QTLlyf9my"
      }
    },
    {
      "cell_type": "markdown",
      "source": [
        "## Creating arrays with a defined data type\n",
        "\n",
        "We use the array() function to create arrays, this function can take an optional argument: dtype that allows us to define the expected data type of the array elements\n",
        "\n",
        "Below is a list of all data types in NumPy and the characters used to represent them.\n",
        "\n",
        "- i - integer\n",
        "- b - boolean\n",
        "- u - unsigned integer\n",
        "- f - float\n",
        "- c - complex float\n",
        "- m - timedelta\n",
        "- M - datetime\n",
        "- O - object\n",
        "- S - string\n",
        "- U - unicode string\n",
        "- V - fixed chunk of memory for other type ( void )\n"
      ],
      "metadata": {
        "id": "_x9q6bZVOZMY"
      }
    },
    {
      "cell_type": "code",
      "source": [
        "# Create an array with data type string:\n",
        "\n",
        "arr = np.array([1, 2, 3, 4], dtype='S')\n",
        "\n",
        "print(arr)\n",
        "print(arr.dtype)"
      ],
      "metadata": {
        "id": "NFw_8LunOf3F",
        "colab": {
          "base_uri": "https://localhost:8080/"
        },
        "outputId": "803ead89-6d13-411f-a234-3cdf7c9140ca"
      },
      "execution_count": null,
      "outputs": [
        {
          "output_type": "stream",
          "name": "stdout",
          "text": [
            "[b'1' b'2' b'3' b'4']\n",
            "|S1\n"
          ]
        }
      ]
    },
    {
      "cell_type": "code",
      "source": [
        "# Create an array with data type 4 bytes integer:\n",
        "\n",
        "arr = np.array([1, 2, 3, 4], dtype='i4')\n",
        "\n",
        "print(arr)\n",
        "print(arr.dtype)"
      ],
      "metadata": {
        "id": "U2-po10fPDEP",
        "colab": {
          "base_uri": "https://localhost:8080/"
        },
        "outputId": "f1988cb0-3a0a-43df-c2d0-32959db1f49d"
      },
      "execution_count": null,
      "outputs": [
        {
          "output_type": "stream",
          "name": "stdout",
          "text": [
            "[1 2 3 4]\n",
            "int32\n"
          ]
        }
      ]
    },
    {
      "cell_type": "code",
      "source": [
        "# Quiz\n",
        "# Get the data type of an array containing strings:\n",
        "\n",
        "\n",
        "arr = np.array(['apple', 'banana', 'cherry'])"
      ],
      "metadata": {
        "id": "_cwMh1ewO9wN"
      },
      "execution_count": null,
      "outputs": []
    },
    {
      "cell_type": "markdown",
      "source": [
        "The best way to change the data type of an existing array, is to make a copy of the array with the **astype()** method.\n",
        "\n",
        "The astype() function creates a copy of the array, and allows you to specify the data type as a parameter."
      ],
      "metadata": {
        "id": "ROaJ74idPRJc"
      }
    },
    {
      "cell_type": "code",
      "source": [
        "# Change data type from float to integer by using 'i' as parameter value:\n",
        "\n",
        "arr = np.array([1.1, 2.1, 3.8])\n",
        "\n",
        "newarr = arr.astype('i')\n",
        "\n",
        "print(newarr)\n",
        "print(newarr.dtype)"
      ],
      "metadata": {
        "id": "IYi8dTrkPTub",
        "colab": {
          "base_uri": "https://localhost:8080/"
        },
        "outputId": "65be080d-f4cb-47c0-aba4-8e735f26b55b"
      },
      "execution_count": null,
      "outputs": [
        {
          "output_type": "stream",
          "name": "stdout",
          "text": [
            "[1 2 3]\n",
            "int32\n"
          ]
        }
      ]
    },
    {
      "cell_type": "code",
      "source": [
        "# Change data type from integer to boolean:\n",
        "\n",
        "arr = np.array([1, 0, 3])\n",
        "\n",
        "newarr = arr.astype(bool)\n",
        "\n",
        "print(newarr)\n",
        "print(newarr.dtype)"
      ],
      "metadata": {
        "id": "xh1e8FimPcjg",
        "colab": {
          "base_uri": "https://localhost:8080/"
        },
        "outputId": "19d2c1a6-08c0-4a2c-ab88-3998e39e2dbc"
      },
      "execution_count": null,
      "outputs": [
        {
          "output_type": "stream",
          "name": "stdout",
          "text": [
            "[ True False  True]\n",
            "bool\n"
          ]
        }
      ]
    },
    {
      "cell_type": "markdown",
      "source": [
        "## Join NumPy arrays\n",
        "We pass a sequence of arrays that we want to join to the concatenate() function, along with the axis. If axis is not explicitly passed, it is taken as 0."
      ],
      "metadata": {
        "id": "08d6GQNFR3lO"
      }
    },
    {
      "cell_type": "code",
      "source": [
        "# Join two arrays\n",
        "arr1 = np.array([1, 2, 3])\n",
        "\n",
        "arr2 = np.array([4, 5, 6])\n",
        "\n",
        "arr = np.concatenate((arr1, arr2))\n",
        "\n",
        "print(arr)\n"
      ],
      "metadata": {
        "id": "l2PxqGHSSBOq",
        "colab": {
          "base_uri": "https://localhost:8080/"
        },
        "outputId": "c2b636cb-9a28-4706-a89b-974ab3f550cc"
      },
      "execution_count": null,
      "outputs": [
        {
          "output_type": "stream",
          "name": "stdout",
          "text": [
            "[1 2 3 4 5 6]\n"
          ]
        }
      ]
    },
    {
      "cell_type": "code",
      "source": [
        "# Join two 2-D arrays along rows (axis=1) or axis = 0 (columns)\n",
        "\n",
        "arr1 = np.array([[1, 2], [3, 4]])\n",
        "\n",
        "arr2 = np.array([[5, 6], [7, 8]])\n",
        "\n",
        "arr = np.concatenate((arr1, arr2), axis=0)\n",
        "print(arr1)\n",
        "print()\n",
        "print(arr2)\n",
        "print()\n",
        "print(arr)"
      ],
      "metadata": {
        "id": "xb_GrulrSGIa",
        "colab": {
          "base_uri": "https://localhost:8080/"
        },
        "outputId": "ed2aa43d-333c-4cc0-fa88-5224bcb5446b"
      },
      "execution_count": null,
      "outputs": [
        {
          "output_type": "stream",
          "name": "stdout",
          "text": [
            "[[1 2]\n",
            " [3 4]]\n",
            "\n",
            "[[5 6]\n",
            " [7 8]]\n",
            "\n",
            "[[1 2]\n",
            " [3 4]\n",
            " [5 6]\n",
            " [7 8]]\n"
          ]
        }
      ]
    },
    {
      "cell_type": "markdown",
      "source": [
        "Joining Arrays Using Stack Functions\n",
        "\n",
        "Stacking is same as concatenation, the only difference is that stacking is done along a new axis.\n",
        "\n",
        "We can concatenate two 1-D arrays along the second axis which would result in putting them one over the other, ie. stacking.\n",
        "\n",
        "We pass a sequence of arrays that we want to join to the stack() method along with the axis. If axis is not explicitly passed it is taken as 0."
      ],
      "metadata": {
        "id": "7A3ugIZXSoGs"
      }
    },
    {
      "cell_type": "code",
      "source": [
        "# NumPy provides a helper function: hstack() to stack along rows.\n",
        "# Example\n",
        "arr1 = np.array([1, 2, 3])\n",
        "\n",
        "arr2 = np.array([4, 5, 6])\n",
        "\n",
        "arr = np.hstack((arr1, arr2))\n",
        "\n",
        "print(arr)"
      ],
      "metadata": {
        "id": "hjA4DS--S5EB",
        "colab": {
          "base_uri": "https://localhost:8080/"
        },
        "outputId": "17a914bc-3b38-4fda-bb5b-899d32adfdcb"
      },
      "execution_count": null,
      "outputs": [
        {
          "output_type": "stream",
          "name": "stdout",
          "text": [
            "[1 2 3 4 5 6]\n"
          ]
        }
      ]
    },
    {
      "cell_type": "code",
      "source": [
        "# NumPy provides a helper function: vstack()  to stack along columns.\n",
        "\n",
        "arr1 = np.array([1, 2, 3])\n",
        "\n",
        "arr2 = np.array([4, 5, 6])\n",
        "\n",
        "arr = np.vstack((arr1, arr2))\n",
        "\n",
        "print(arr)"
      ],
      "metadata": {
        "id": "t5VtEsiBTCmb",
        "colab": {
          "base_uri": "https://localhost:8080/"
        },
        "outputId": "1d0e1877-f8b5-4f67-a4f8-fe13ec68e8ab"
      },
      "execution_count": null,
      "outputs": [
        {
          "output_type": "stream",
          "name": "stdout",
          "text": [
            "[[1 2 3]\n",
            " [4 5 6]]\n"
          ]
        }
      ]
    },
    {
      "cell_type": "code",
      "source": [
        "# NumPy provides a helper function: dstack() to stack along height, which is the same as depth.\n",
        "arr1 = np.array([1, 2, 3])\n",
        "print(arr1)\n",
        "arr2 = np.array([4, 5, 6])\n",
        "print(arr2)\n",
        "arr = np.dstack((arr1, arr2))\n",
        "print()\n",
        "\n",
        "print(arr)\n"
      ],
      "metadata": {
        "id": "WcvliE3xTJnM",
        "colab": {
          "base_uri": "https://localhost:8080/"
        },
        "outputId": "a467e402-4e17-4fa5-e0ce-ab06f31d9206"
      },
      "execution_count": null,
      "outputs": [
        {
          "output_type": "stream",
          "name": "stdout",
          "text": [
            "[1 2 3]\n",
            "[4 5 6]\n",
            "\n",
            "[[[1 4]\n",
            "  [2 5]\n",
            "  [3 6]]]\n"
          ]
        }
      ]
    },
    {
      "cell_type": "code",
      "source": [
        "arr1 = np.array([1, 2, 3])\n",
        "\n",
        "arr2 = np.array([4, 5, 6])\n",
        "\n",
        "arr = np.stack((arr1, arr2), axis=1)\n",
        "\n",
        "print(arr)"
      ],
      "metadata": {
        "id": "_VnJ1GltS0RL",
        "colab": {
          "base_uri": "https://localhost:8080/"
        },
        "outputId": "4973502d-432d-4a94-c4c7-b530e9d1ee68"
      },
      "execution_count": null,
      "outputs": [
        {
          "output_type": "stream",
          "name": "stdout",
          "text": [
            "[[1 4]\n",
            " [2 5]\n",
            " [3 6]]\n"
          ]
        }
      ]
    },
    {
      "cell_type": "code",
      "source": [
        "array1 = np.array([[[1,2,3],[4,5,6],[7,8,9]]])\n",
        "\n",
        "np.searchsorted(array1, 9)"
      ],
      "metadata": {
        "id": "tu1_FnnRGFBs",
        "colab": {
          "base_uri": "https://localhost:8080/",
          "height": 330
        },
        "outputId": "a1dd734c-3843-4a63-b672-7ef61e7c84f6"
      },
      "execution_count": null,
      "outputs": [
        {
          "output_type": "error",
          "ename": "ValueError",
          "evalue": "object too deep for desired array",
          "traceback": [
            "\u001b[0;31m---------------------------------------------------------------------------\u001b[0m",
            "\u001b[0;31mValueError\u001b[0m                                Traceback (most recent call last)",
            "\u001b[0;32m/tmp/ipython-input-5-3808797059.py\u001b[0m in \u001b[0;36m<cell line: 0>\u001b[0;34m()\u001b[0m\n\u001b[1;32m      1\u001b[0m \u001b[0marray1\u001b[0m \u001b[0;34m=\u001b[0m \u001b[0mnp\u001b[0m\u001b[0;34m.\u001b[0m\u001b[0marray\u001b[0m\u001b[0;34m(\u001b[0m\u001b[0;34m[\u001b[0m\u001b[0;34m[\u001b[0m\u001b[0;34m[\u001b[0m\u001b[0;36m1\u001b[0m\u001b[0;34m,\u001b[0m\u001b[0;36m2\u001b[0m\u001b[0;34m,\u001b[0m\u001b[0;36m3\u001b[0m\u001b[0;34m]\u001b[0m\u001b[0;34m,\u001b[0m\u001b[0;34m[\u001b[0m\u001b[0;36m4\u001b[0m\u001b[0;34m,\u001b[0m\u001b[0;36m5\u001b[0m\u001b[0;34m,\u001b[0m\u001b[0;36m6\u001b[0m\u001b[0;34m]\u001b[0m\u001b[0;34m,\u001b[0m\u001b[0;34m[\u001b[0m\u001b[0;36m7\u001b[0m\u001b[0;34m,\u001b[0m\u001b[0;36m8\u001b[0m\u001b[0;34m,\u001b[0m\u001b[0;36m9\u001b[0m\u001b[0;34m]\u001b[0m\u001b[0;34m]\u001b[0m\u001b[0;34m]\u001b[0m\u001b[0;34m)\u001b[0m\u001b[0;34m\u001b[0m\u001b[0;34m\u001b[0m\u001b[0m\n\u001b[1;32m      2\u001b[0m \u001b[0;34m\u001b[0m\u001b[0m\n\u001b[0;32m----> 3\u001b[0;31m \u001b[0mnp\u001b[0m\u001b[0;34m.\u001b[0m\u001b[0msearchsorted\u001b[0m\u001b[0;34m(\u001b[0m\u001b[0marray1\u001b[0m\u001b[0;34m,\u001b[0m \u001b[0;36m9\u001b[0m\u001b[0;34m)\u001b[0m\u001b[0;34m\u001b[0m\u001b[0;34m\u001b[0m\u001b[0m\n\u001b[0m",
            "\u001b[0;32m/usr/local/lib/python3.11/dist-packages/numpy/_core/fromnumeric.py\u001b[0m in \u001b[0;36msearchsorted\u001b[0;34m(a, v, side, sorter)\u001b[0m\n\u001b[1;32m   1469\u001b[0m \u001b[0;34m\u001b[0m\u001b[0m\n\u001b[1;32m   1470\u001b[0m     \"\"\"\n\u001b[0;32m-> 1471\u001b[0;31m     \u001b[0;32mreturn\u001b[0m \u001b[0m_wrapfunc\u001b[0m\u001b[0;34m(\u001b[0m\u001b[0ma\u001b[0m\u001b[0;34m,\u001b[0m \u001b[0;34m'searchsorted'\u001b[0m\u001b[0;34m,\u001b[0m \u001b[0mv\u001b[0m\u001b[0;34m,\u001b[0m \u001b[0mside\u001b[0m\u001b[0;34m=\u001b[0m\u001b[0mside\u001b[0m\u001b[0;34m,\u001b[0m \u001b[0msorter\u001b[0m\u001b[0;34m=\u001b[0m\u001b[0msorter\u001b[0m\u001b[0;34m)\u001b[0m\u001b[0;34m\u001b[0m\u001b[0;34m\u001b[0m\u001b[0m\n\u001b[0m\u001b[1;32m   1472\u001b[0m \u001b[0;34m\u001b[0m\u001b[0m\n\u001b[1;32m   1473\u001b[0m \u001b[0;34m\u001b[0m\u001b[0m\n",
            "\u001b[0;32m/usr/local/lib/python3.11/dist-packages/numpy/_core/fromnumeric.py\u001b[0m in \u001b[0;36m_wrapfunc\u001b[0;34m(obj, method, *args, **kwds)\u001b[0m\n\u001b[1;32m     55\u001b[0m \u001b[0;34m\u001b[0m\u001b[0m\n\u001b[1;32m     56\u001b[0m     \u001b[0;32mtry\u001b[0m\u001b[0;34m:\u001b[0m\u001b[0;34m\u001b[0m\u001b[0;34m\u001b[0m\u001b[0m\n\u001b[0;32m---> 57\u001b[0;31m         \u001b[0;32mreturn\u001b[0m \u001b[0mbound\u001b[0m\u001b[0;34m(\u001b[0m\u001b[0;34m*\u001b[0m\u001b[0margs\u001b[0m\u001b[0;34m,\u001b[0m \u001b[0;34m**\u001b[0m\u001b[0mkwds\u001b[0m\u001b[0;34m)\u001b[0m\u001b[0;34m\u001b[0m\u001b[0;34m\u001b[0m\u001b[0m\n\u001b[0m\u001b[1;32m     58\u001b[0m     \u001b[0;32mexcept\u001b[0m \u001b[0mTypeError\u001b[0m\u001b[0;34m:\u001b[0m\u001b[0;34m\u001b[0m\u001b[0;34m\u001b[0m\u001b[0m\n\u001b[1;32m     59\u001b[0m         \u001b[0;31m# A TypeError occurs if the object does have such a method in its\u001b[0m\u001b[0;34m\u001b[0m\u001b[0;34m\u001b[0m\u001b[0m\n",
            "\u001b[0;31mValueError\u001b[0m: object too deep for desired array"
          ]
        }
      ]
    },
    {
      "cell_type": "markdown",
      "source": [
        "## Splitting NumPy Arrays\n",
        "Splitting is reverse operation of Joining.\n",
        "\n",
        "We use array_split() for splitting arrays, we pass it the array we want to split and the number of splits."
      ],
      "metadata": {
        "id": "cr-ig1GfTyO0"
      }
    },
    {
      "cell_type": "code",
      "source": [
        "# Split the array in 3 parts\n",
        "arr = np.array([1, 2, 3, 4, 5, 6])\n",
        "\n",
        "newarr = np.array_split(arr, 3)\n",
        "\n",
        "print(newarr)"
      ],
      "metadata": {
        "id": "sAx4F63jT2ug"
      },
      "execution_count": null,
      "outputs": []
    },
    {
      "cell_type": "code",
      "source": [
        "# Split the array in 4 parts.\n",
        "# If the array has less elements than required, it will adjust from the end accordingly.\n",
        "arr = np.array([1, 2, 3, 4, 5, 6])\n",
        "\n",
        "newarr = np.array_split(arr, 4)\n",
        "\n",
        "print(newarr)"
      ],
      "metadata": {
        "id": "InDfM_19UAMm"
      },
      "execution_count": null,
      "outputs": []
    },
    {
      "cell_type": "markdown",
      "source": [
        "Split Into Arrays\n",
        "\n",
        "The return value of the array_split() method is an array containing each of the split as an array.\n",
        "\n",
        "If you split an array into 3 arrays, you can access them from the result just like any array element:"
      ],
      "metadata": {
        "id": "QKxqfEefWMLO"
      }
    },
    {
      "cell_type": "code",
      "source": [
        "# Access the splitted arrays\n",
        "arr = np.array([1, 2, 3, 4, 5, 6])\n",
        "\n",
        "newarr = np.array_split(arr, 3)\n",
        "\n",
        "print(newarr[0])\n",
        "print(newarr[1])\n",
        "print(newarr[2])"
      ],
      "metadata": {
        "id": "D9l7fanFWP9W"
      },
      "execution_count": null,
      "outputs": []
    },
    {
      "cell_type": "code",
      "source": [
        "# Split the 2-D array into three 2-D arrays.\n",
        "\n",
        "arr = np.array([[1, 2], [3, 4], [5, 6], [7, 8], [9, 10], [11, 12]])\n",
        "\n",
        "newarr = np.array_split(arr, 3)\n",
        "\n",
        "print(newarr)"
      ],
      "metadata": {
        "id": "dpYMLQoWWV-9"
      },
      "execution_count": null,
      "outputs": []
    },
    {
      "cell_type": "code",
      "source": [
        "# Split the 2-D array into three 2-D arrays.\n",
        "arr = np.array([[1, 2, 3], [4, 5, 6], [7, 8, 9], [10, 11, 12], [13, 14, 15], [16, 17, 18]])\n",
        "\n",
        "newarr = np.array_split(arr, 3)\n",
        "\n",
        "print(newarr)"
      ],
      "metadata": {
        "id": "eEuR9chmWdEe"
      },
      "execution_count": null,
      "outputs": []
    },
    {
      "cell_type": "markdown",
      "source": [
        "## Searching Arrays\n",
        "You can search an array for a certain value, and return the indexes that get a match.\n",
        "\n",
        "To search an array, use the where() method."
      ],
      "metadata": {
        "id": "Q37rI3vAWl_U"
      }
    },
    {
      "cell_type": "code",
      "source": [
        "# Find the indexes where the value is 4\n",
        "arr = np.array([[1, 2], [3, 4], [5,6], [4, 4]])\n",
        "print(arr)\n",
        "x = np.where(arr == [4,4])\n",
        "\n",
        "print(x)\n",
        "\n",
        "# means that the value 4 is present at index 3, 5, and 6."
      ],
      "metadata": {
        "id": "utVNfkG_WtSA",
        "colab": {
          "base_uri": "https://localhost:8080/"
        },
        "outputId": "a0a40f1d-9ec0-44ce-9969-bdc53e7dddba"
      },
      "execution_count": null,
      "outputs": [
        {
          "output_type": "stream",
          "name": "stdout",
          "text": [
            "[[1 2]\n",
            " [3 4]\n",
            " [5 6]\n",
            " [4 4]]\n",
            "(array([1, 3, 3]), array([1, 0, 1]))\n"
          ]
        }
      ]
    },
    {
      "cell_type": "code",
      "source": [
        "# Find the indexes where the values are even\n",
        "arr = np.array([1, 2, 3, 4, 5, 6, 7, 8])\n",
        "\n",
        "x = np.where(arr%2 == 0)\n",
        "\n",
        "print(x)"
      ],
      "metadata": {
        "id": "PsDFChXbW6bN",
        "colab": {
          "base_uri": "https://localhost:8080/"
        },
        "outputId": "912a4cda-d4de-4d14-e98c-c67efd1ac122"
      },
      "execution_count": null,
      "outputs": [
        {
          "output_type": "stream",
          "name": "stdout",
          "text": [
            "(array([1, 3, 5, 7]),)\n"
          ]
        }
      ]
    },
    {
      "cell_type": "markdown",
      "source": [
        "There is a method called **searchsorted()** which performs a binary search in the array, and returns the index where the specified value would be inserted to maintain the search order"
      ],
      "metadata": {
        "id": "-eVJDN9RbDhs"
      }
    },
    {
      "cell_type": "code",
      "source": [
        "#  Find the indexes where the value 7 should be inserted:\n",
        "arr = np.array([6, 7, 8, 9])\n",
        "\n",
        "x = np.searchsorted(arr, 7)\n",
        "\n",
        "print(x)"
      ],
      "metadata": {
        "id": "Lsv76n6kXE3Y",
        "colab": {
          "base_uri": "https://localhost:8080/"
        },
        "outputId": "e1acffd1-c667-441d-f56e-66bebe15e4aa"
      },
      "execution_count": null,
      "outputs": [
        {
          "output_type": "stream",
          "name": "stdout",
          "text": [
            "1\n"
          ]
        }
      ]
    },
    {
      "cell_type": "code",
      "source": [],
      "metadata": {
        "id": "AJRpx2VKdD6l"
      },
      "execution_count": null,
      "outputs": []
    },
    {
      "cell_type": "markdown",
      "source": [
        "# Quiz"
      ],
      "metadata": {
        "id": "JDAcWqoCdE3S"
      }
    },
    {
      "cell_type": "code",
      "source": [
        "# 1. How do you create a 1D numpy array containing the numbers from 10 to 20 (inclusive)?\n",
        "\n",
        "# A) np.array([10, 11, 12, 13, 14, 15, 16, 17, 18, 19, 20])\n",
        "# B) np.arange(10, 21)\n",
        "# C) np.linspace(10, 20, 11)\n",
        "# D) Both B and C"
      ],
      "metadata": {
        "id": "XPjQ5nIXdE3w"
      },
      "execution_count": null,
      "outputs": []
    },
    {
      "cell_type": "code",
      "source": [
        "x = np.arange(10, 21)\n",
        "print(x.ndim)\n",
        "type(x)"
      ],
      "metadata": {
        "colab": {
          "base_uri": "https://localhost:8080/"
        },
        "id": "tagM1o1H21Pf",
        "outputId": "dcd55392-43c6-416a-8a97-58d7bd950ac9"
      },
      "execution_count": null,
      "outputs": [
        {
          "output_type": "stream",
          "name": "stdout",
          "text": [
            "1\n"
          ]
        },
        {
          "output_type": "execute_result",
          "data": {
            "text/plain": [
              "numpy.ndarray"
            ]
          },
          "metadata": {},
          "execution_count": 72
        }
      ]
    },
    {
      "cell_type": "code",
      "source": [
        "# 2. Conver to a 4D array\n",
        "\n",
        "arr = np.array([1, 2, 3, 4, 5, 6, 7], ndmin = 4)\n",
        "# arr_4d = ...\n"
      ],
      "metadata": {
        "id": "7OKq5a_-dE3x"
      },
      "execution_count": null,
      "outputs": []
    },
    {
      "cell_type": "code",
      "source": [
        "# 3. From the second element, slice elements from index 1 to index 4 (not included)\n",
        "\n",
        "arr = np.array([[1, 2, 3, 4, 5], [6, 7, 8, 9, 10]])\n",
        "print(arr)\n",
        "print()\n",
        "print(arr[1, 1:4])\n"
      ],
      "metadata": {
        "colab": {
          "base_uri": "https://localhost:8080/"
        },
        "outputId": "f0b6c241-c85a-45b7-db23-672951a9ba59",
        "id": "OoVzzXu6dE3y"
      },
      "execution_count": null,
      "outputs": [
        {
          "output_type": "stream",
          "name": "stdout",
          "text": [
            "[[ 1  2  3  4  5]\n",
            " [ 6  7  8  9 10]]\n",
            "\n",
            "[7 8 9]\n"
          ]
        }
      ]
    },
    {
      "cell_type": "code",
      "source": [
        "# 4. Given arr = np.array([1, 2, 3, 4, 5]), what will arr * 2 return?"
      ],
      "metadata": {
        "id": "OCqhGAjbdE30"
      },
      "execution_count": null,
      "outputs": []
    },
    {
      "cell_type": "code",
      "source": [
        "# 5. How do you reshape a 1D array arr = np.array([1, 2, 3, 4, 5, 6]) into a 2x3 matrix?\n",
        "array.reshape(2,3)"
      ],
      "metadata": {
        "id": "jOSlH6nmdE31"
      },
      "execution_count": null,
      "outputs": []
    },
    {
      "cell_type": "code",
      "source": [
        "# 6. From both elements, return index 2:\n",
        "arr = np.array([[1, 2, 3, 4, 5], [6, 7, 8, 9, 10]])\n",
        "\n",
        "print(arr[1:2, 2])"
      ],
      "metadata": {
        "id": "6QKKMVZ6dE31",
        "colab": {
          "base_uri": "https://localhost:8080/"
        },
        "outputId": "bdc1657e-e46c-4892-aa56-5e09d3c1dcb1"
      },
      "execution_count": null,
      "outputs": [
        {
          "output_type": "stream",
          "name": "stdout",
          "text": [
            "[8]\n"
          ]
        }
      ]
    },
    {
      "cell_type": "code",
      "source": [
        "# 7. From both elements, slice index 1 to index 4 (not included), this will return a 2-D array:\n",
        "x = [1, 2, 3, 4, 5]\n",
        "y = [6, 7, 8, 9, 10]\n",
        "z = [36, 76, 68, 69, 106]\n",
        "\n",
        "arr_7 = np.array([x, y,z])\n",
        "print(arr_7)\n",
        "print()\n",
        "print(arr_7[0:2,  1:4])\n"
      ],
      "metadata": {
        "id": "KHFVVjSrdE31",
        "colab": {
          "base_uri": "https://localhost:8080/"
        },
        "outputId": "781fd38d-d1fa-498a-925b-0ed2bd8cebbf"
      },
      "execution_count": null,
      "outputs": [
        {
          "output_type": "stream",
          "name": "stdout",
          "text": [
            "[[  1   2   3   4   5]\n",
            " [  6   7   8   9  10]\n",
            " [ 36  76  68  69 106]]\n",
            "\n",
            "[[2 3 4]\n",
            " [7 8 9]]\n"
          ]
        }
      ]
    },
    {
      "cell_type": "code",
      "source": [
        "# 8. Use the correct NumPy method to find all items with the value 5.\n",
        "\n",
        "arr = np.array([1, 2, 5, 3, 4, 5, 4, 4])\n",
        "\n",
        "np.where(arr ==5)"
      ],
      "metadata": {
        "id": "QznEPBJ4bPND",
        "colab": {
          "base_uri": "https://localhost:8080/"
        },
        "outputId": "6f01fe48-cf9e-4654-e71e-7810517b279a"
      },
      "execution_count": null,
      "outputs": [
        {
          "output_type": "execute_result",
          "data": {
            "text/plain": [
              "(array([2, 5]),)"
            ]
          },
          "metadata": {},
          "execution_count": 75
        }
      ]
    },
    {
      "cell_type": "code",
      "source": [
        "# 9.Insert the correct slicing syntax to print the following selection of the array:\n",
        "\n",
        "# Everything from (including) the second item to (not including) the fifth item.\n",
        "\n",
        "arr = np.array([10, 15, 20, 25, 30, 35, 40])"
      ],
      "metadata": {
        "id": "kgaLRDl0dE32"
      },
      "execution_count": null,
      "outputs": []
    },
    {
      "cell_type": "code",
      "source": [
        "# 10. Build a function to calculate the standard deviation of a numpy array\n"
      ],
      "metadata": {
        "id": "IBW_7NL1dqeF"
      },
      "execution_count": null,
      "outputs": []
    }
  ]
}